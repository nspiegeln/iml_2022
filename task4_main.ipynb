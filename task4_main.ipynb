{
  "nbformat": 4,
  "nbformat_minor": 0,
  "metadata": {
    "colab": {
      "name": "task4_main.ipynb",
      "provenance": [],
      "collapsed_sections": [],
      "authorship_tag": "ABX9TyMpQbrdm9RStxoAU46/nvzi",
      "include_colab_link": true
    },
    "kernelspec": {
      "name": "python3",
      "display_name": "Python 3"
    },
    "language_info": {
      "name": "python"
    }
  },
  "cells": [
    {
      "cell_type": "markdown",
      "metadata": {
        "id": "view-in-github",
        "colab_type": "text"
      },
      "source": [
        "<a href=\"https://colab.research.google.com/github/nspiegeln/iml_2022/blob/main/task4_main.ipynb\" target=\"_parent\"><img src=\"https://colab.research.google.com/assets/colab-badge.svg\" alt=\"Open In Colab\"/></a>"
      ]
    },
    {
      "cell_type": "code",
      "execution_count": null,
      "metadata": {
        "id": "9T_5cUxPdqb5"
      },
      "outputs": [],
      "source": [
        "import pandas as pd\n",
        "import torch\n",
        "import numpy as np\n",
        "from torch import nn\n",
        "import tensorflow as tf\n",
        "import matplotlib.pyplot as plt\n",
        "from sklearn.metrics import accuracy_score, precision_score, recall_score\n",
        "from sklearn.model_selection import train_test_split\n",
        "from tensorflow.keras import layers, losses\n",
        "from tensorflow.keras.datasets import fashion_mnist\n",
        "from tensorflow.keras.models import Model\n",
        "from sklearn.metrics import mean_squared_error\n",
        "from sklearn.model_selection import train_test_split"
      ]
    },
    {
      "cell_type": "code",
      "source": [
        "#load data\n",
        "from google.colab import files\n",
        "uploaded = files.upload()"
      ],
      "metadata": {
        "id": "qQ0Scm4ed0vN"
      },
      "execution_count": null,
      "outputs": []
    },
    {
      "cell_type": "code",
      "source": [
        "df_train= pd.read_csv(path + \"train_features.csv\")\n",
        "df_train_labels= pd.read_csv(path + \"train_labels.csv\")\n",
        "df_pretrain= pd.read_csv(path + \"pretrain_features.csv\")\n",
        "df_pretrain_labels= pd.read_csv(path + \"pretrain_labels.csv\")\n",
        "df_test= pd.read_csv(path + \"test_features.csv\")"
      ],
      "metadata": {
        "id": "eNN4gItzd9Jj"
      },
      "execution_count": null,
      "outputs": []
    },
    {
      "cell_type": "code",
      "source": [
        "\n",
        "df_train_values = df_train.iloc[:,2::]\n",
        "df_pretrain_values = df_pretrain.iloc[:,2::]\n",
        "\n",
        "df_train_lab = df_train_labels.iloc[:,1]\n",
        "df_pretrain_lab = df_pretrain_labels.iloc[:,1]\n",
        "\n",
        "train = df_train_values.values #dataset with known homo-lumo gap\n",
        "pretrain = df_pretrain_values.values #dataset with known lumo value\n",
        "\n",
        "train_labels = df_train_lab.values\n",
        "pretrain_labels = df_pretrain_lab.values\n"
      ],
      "metadata": {
        "id": "w3TcQUVjd_nz"
      },
      "execution_count": null,
      "outputs": []
    },
    {
      "cell_type": "code",
      "source": [
        "x_pretrain, x_pretest, y_pretrain, y_pretest = train_test_split(pretrain, pretrain_labels, test_size = 0.9)"
      ],
      "metadata": {
        "id": "czaE5YppeA0t"
      },
      "execution_count": null,
      "outputs": []
    },
    {
      "cell_type": "code",
      "source": [
        "# PRE-PROCESSING of features according to autoencoder\n",
        "# pre-train set\n",
        "\n",
        "#hyperparameters\n",
        "dim = 200\n",
        "epochs = 5 # best results for epohcs= 5, anything larger and the loss starts increasing again\n",
        "\n",
        "# create encoder and decoder to reduce dimensionality of features\n",
        "class Autoencoder(Model):\n",
        "  def __init__(self, dim):\n",
        "    super(Autoencoder, self).__init__()\n",
        "    self.dim = dim   \n",
        "    self.encoder = tf.keras.Sequential([\n",
        "      layers.Flatten(),\n",
        "      layers.Dense(dim, activation='relu'),\n",
        "    ])\n",
        "    self.decoder = tf.keras.Sequential([\n",
        "      layers.Dense(1000, activation='sigmoid')\n",
        "    ])\n",
        "\n",
        "  def call(self, x):\n",
        "    encoded = self.encoder(x)\n",
        "    decoded = self.decoder(encoded)\n",
        "    return decoded\n",
        "\n",
        "autoencoder = Autoencoder(dim)\n",
        "\n",
        "autoencoder.compile(optimizer='adam', loss=losses.MeanSquaredError())\n",
        "\n",
        "autoencoder.fit(x_pretrain, x_pretrain, epochs=epochs, shuffle=True, validation_data=(x_pretest, x_pretest))"
      ],
      "metadata": {
        "id": "pkiD7zrGeCr0"
      },
      "execution_count": null,
      "outputs": []
    },
    {
      "cell_type": "code",
      "source": [
        "x_encoded_pretrain = autoencoder.encoder(x_pretrain).numpy()\n",
        "x_encoded_pretest = autoencoder.encoder(x_pretest).numpy()"
      ],
      "metadata": {
        "id": "JXms6SwzeEwE"
      },
      "execution_count": null,
      "outputs": []
    },
    {
      "cell_type": "code",
      "source": [
        "# hyperparameters\n",
        "output_dim = 1\n",
        "epochs = 100\n",
        "# predict one LUMO label\n",
        "class Predictor(Model):\n",
        "    def __init__(self, dim):\n",
        "      super(Predictor, self).__init__()\n",
        "      self.output_dim = output_dim   \n",
        "      self.predictor = tf.keras.Sequential([\n",
        "        layers.Flatten(),\n",
        "        layers.Dense(50, activation='relu'),\n",
        "        layers.Dense(output_dim, activation='relu'),\n",
        "      ])\n",
        "\n",
        "    def call(self, x):\n",
        "      predictor = self.predictor(x)\n",
        "      return predictor\n",
        "    \n",
        "predictor = Predictor(output_dim)\n",
        "predictor.compile(optimizer='adam', loss=losses.MeanSquaredError())\n",
        "predictor.fit(x_encoded_pretrain, y_pretrain, epochs=epochs, shuffle=True, validation_data=(x_encoded_pretest, y_pretest))"
      ],
      "metadata": {
        "id": "172ViH8keIdE"
      },
      "execution_count": null,
      "outputs": []
    }
  ]
}